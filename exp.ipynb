{
 "cells": [
  {
   "cell_type": "code",
   "execution_count": 9,
   "metadata": {},
   "outputs": [
    {
     "ename": "AttributeError",
     "evalue": "'str' object has no attribute 'get'",
     "output_type": "error",
     "traceback": [
      "\u001b[0;31m---------------------------------------------------------------------------\u001b[0m",
      "\u001b[0;31mAttributeError\u001b[0m                            Traceback (most recent call last)",
      "Cell \u001b[0;32mIn[9], line 9\u001b[0m\n\u001b[1;32m      7\u001b[0m graph_json \u001b[38;5;241m=\u001b[39m json\u001b[38;5;241m.\u001b[39mdumps(graph_dict)\n\u001b[1;32m      8\u001b[0m \u001b[38;5;66;03m# nx.readwrite.json_graph.node_link_data(graph_json)\u001b[39;00m\n\u001b[0;32m----> 9\u001b[0m \u001b[43mnx\u001b[49m\u001b[38;5;241;43m.\u001b[39;49m\u001b[43mnode_link_graph\u001b[49m\u001b[43m(\u001b[49m\u001b[43mgraph_json\u001b[49m\u001b[43m)\u001b[49m\n\u001b[1;32m     10\u001b[0m \u001b[38;5;66;03m# nx.readwrite.json_graph.node_link_data(graph)['multigraph']\u001b[39;00m\n\u001b[1;32m     11\u001b[0m \u001b[38;5;66;03m# nx.readwrite.json_graph.node_link_data(graph)['graph']\u001b[39;00m\n",
      "File \u001b[0;32m~/.local/share/virtualenvs/backend-fPqfyGxc/lib/python3.10/site-packages/networkx/readwrite/json_graph/node_link.py:166\u001b[0m, in \u001b[0;36mnode_link_graph\u001b[0;34m(data, directed, multigraph, attrs)\u001b[0m\n\u001b[1;32m    164\u001b[0m \u001b[38;5;28;01melse\u001b[39;00m:\n\u001b[1;32m    165\u001b[0m     attrs\u001b[38;5;241m.\u001b[39mupdate({k: v \u001b[38;5;28;01mfor\u001b[39;00m k, v \u001b[38;5;129;01min\u001b[39;00m _attrs\u001b[38;5;241m.\u001b[39mitems() \u001b[38;5;28;01mif\u001b[39;00m k \u001b[38;5;129;01mnot\u001b[39;00m \u001b[38;5;129;01min\u001b[39;00m attrs})\n\u001b[0;32m--> 166\u001b[0m multigraph \u001b[38;5;241m=\u001b[39m \u001b[43mdata\u001b[49m\u001b[38;5;241;43m.\u001b[39;49m\u001b[43mget\u001b[49m(\u001b[38;5;124m\"\u001b[39m\u001b[38;5;124mmultigraph\u001b[39m\u001b[38;5;124m\"\u001b[39m, multigraph)\n\u001b[1;32m    167\u001b[0m directed \u001b[38;5;241m=\u001b[39m data\u001b[38;5;241m.\u001b[39mget(\u001b[38;5;124m\"\u001b[39m\u001b[38;5;124mdirected\u001b[39m\u001b[38;5;124m\"\u001b[39m, directed)\n\u001b[1;32m    168\u001b[0m \u001b[38;5;28;01mif\u001b[39;00m multigraph:\n",
      "\u001b[0;31mAttributeError\u001b[0m: 'str' object has no attribute 'get'"
     ]
    }
   ],
   "source": [
    "import networkx as nx\n",
    "import json\n",
    "filename = '/workspaces/smartbugsVulnDetector/tmp/cfg.gpickle'\n",
    "graph = nx.read_gpickle(filename)\n",
    "# nx.readwrite.json_graph.node_link_data(graph)['keys']\n",
    "graph_dict = nx.readwrite.json_graph.node_link_data(graph)\n",
    "graph_json = json.dumps(graph_dict)\n",
    "\n",
    "# nx.readwrite.json_graph.node_link_data(graph_json)\n",
    "# nx.node_link_graph(graph_json)\n",
    "# nx.readwrite.json_graph.node_link_data(graph)['multigraph']\n",
    "# nx.readwrite.json_graph.node_link_data(graph)['graph']\n"
   ]
  },
  {
   "cell_type": "code",
   "execution_count": 18,
   "metadata": {},
   "outputs": [
    {
     "data": {
      "text/plain": [
       "'[0, 0]'"
      ]
     },
     "execution_count": 18,
     "metadata": {},
     "output_type": "execute_result"
    }
   ],
   "source": [
    "import torch\n",
    "\n",
    "a = torch.randint(0,2,size=(2,))\n",
    "str(a.tolist())\n"
   ]
  },
  {
   "cell_type": "code",
   "execution_count": 4,
   "metadata": {},
   "outputs": [
    {
     "data": {
      "text/plain": [
       "[None, '1']"
      ]
     },
     "execution_count": 4,
     "metadata": {},
     "output_type": "execute_result"
    }
   ],
   "source": [
    "a = {'1':None, 'w': 1}\n",
    "\n",
    "[str(a[k]) if isinstance(a[k], int) else a[k] for k in a]"
   ]
  }
 ],
 "metadata": {
  "kernelspec": {
   "display_name": "backend-fPqfyGxc",
   "language": "python",
   "name": "python3"
  },
  "language_info": {
   "codemirror_mode": {
    "name": "ipython",
    "version": 3
   },
   "file_extension": ".py",
   "mimetype": "text/x-python",
   "name": "python",
   "nbconvert_exporter": "python",
   "pygments_lexer": "ipython3",
   "version": "3.10.13"
  }
 },
 "nbformat": 4,
 "nbformat_minor": 2
}
